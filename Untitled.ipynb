{
 "cells": [
  {
   "cell_type": "code",
   "execution_count": 1,
   "id": "ec0e536f",
   "metadata": {},
   "outputs": [
    {
     "name": "stdout",
     "output_type": "stream",
     "text": [
      "     LOCATION         Value\n",
      "0         ZAF  2.056473e+05\n",
      "1         USA  4.536107e+06\n",
      "2         TUR  3.892385e+05\n",
      "3         SAU  4.202120e+05\n",
      "4        OECD  1.344690e+07\n",
      "5         MEX  5.208070e+05\n",
      "6         KOR  4.106171e+05\n",
      "7         JPN  1.447033e+06\n",
      "8         ITA  6.674658e+05\n",
      "9         IND  1.797358e+06\n",
      "10        IDN  1.000017e+06\n",
      "11        GBR  6.114138e+05\n",
      "12        FRA  6.158745e+05\n",
      "13  EU27_2020  7.099653e+06\n",
      "14       EA19  5.644590e+06\n",
      "15        DEU  1.040814e+06\n",
      "16        CHN  2.787640e+06\n",
      "17        CAN  3.941130e+05\n",
      "18        BRA  1.276487e+06\n",
      "19        AUS  2.354595e+05\n"
     ]
    },
    {
     "data": {
      "image/png": "[encoded data removed]",
      "text/plain": [
       "<Figure size 432x288 with 1 Axes>"
      ]
     },
     "metadata": {
      "needs_background": "light"
     },
     "output_type": "display_data"
    }
   ],
   "source": [
    "import pandas as pd\n",
    "import numpy as np\n",
    "import matplotlib.pyplot as plt\n",
    "\n",
    "data = pd.read_csv('/Users/yerim/Desktop/파이썬/GDP_data.csv', encoding = 'utf-8')\n",
    "\n",
    "ZAF = data[data['LOCATION'] =='ZAF']\n",
    "AUS = data[data['LOCATION'] == 'AUS']\n",
    "USA = data[data['LOCATION'] == 'USA']\n",
    "TUR = data[data['LOCATION'] == 'TUR']\n",
    "SAU = data[data['LOCATION'] == 'SAU']\n",
    "OECD = data[data['LOCATION'] == 'OECD']\n",
    "MEX = data[data['LOCATION'] == 'MEX']\n",
    "KOR = data[data['LOCATION'] == 'KOR']\n",
    "JPN = data[data['LOCATION'] == 'JPN']\n",
    "ITA = data[data['LOCATION'] == 'ITA']\n",
    "IND = data[data['LOCATION'] == 'IND' ]\n",
    "IDN = data[data['LOCATION'] == 'IDN']\n",
    "GBR = data[data['LOCATION'] == 'GBR']\n",
    "FRA = data[data['LOCATION'] == 'FRA']\n",
    "EA19 = data[data['LOCATION'] == 'EA19']\n",
    "DEU = data[data['LOCATION'] == 'DEU']\n",
    "CHN = data[data['LOCATION'] == 'CHN']\n",
    "CAN = data[data['LOCATION'] == 'CAN']\n",
    "BRA = data[data['LOCATION'] == 'BRA']\n",
    "EU27_2020 = data[data['LOCATION'] == 'EU27_2020']\n",
    "G20_GDP = pd.DataFrame({'LOCATION' : ['ZAF' , 'USA' , 'TUR' , 'SAU' , 'OECD' , 'MEX' , 'KOR' , 'JPN' , 'ITA' , 'IND' , 'IDN' , 'GBR' , 'FRA', 'EU27_2020' , 'EA19' , 'DEU', 'CHN' , 'CAN', 'BRA' , 'AUS'] ,\n",
    "                        'Value' : [np.mean(ZAF['Value']), \n",
    "                                   np.mean(USA['Value']),\n",
    "                                   np.mean(TUR['Value']),\n",
    "                                   np.mean(SAU['Value']),\n",
    "                                   np.mean(OECD['Value']),\n",
    "                                   np.mean(MEX['Value']),\n",
    "                                   np.mean(KOR['Value']),\n",
    "                                   np.mean(JPN['Value']),\n",
    "                                   np.mean(ITA['Value']),\n",
    "                                   np.mean(IND['Value']),\n",
    "                                   np.mean(IDN['Value']),\n",
    "                                   np.mean(GBR['Value']),\n",
    "                                   np.mean(FRA['Value']),\n",
    "                                   np.mean(EU27_2020['Value']),\n",
    "                                   np.mean(EA19['Value']),\n",
    "                                   np.mean(DEU['Value']),\n",
    "                                   np.mean(CHN['Value']),\n",
    "                                   np.mean(CAN['Value']),\n",
    "                                   np.mean(BRA['Value']),\n",
    "                                   np.mean(AUS['Value']),\n",
    "                                   ]})\n",
    "\n",
    "print(G20_GDP)\n",
    "\n",
    "plt.bar(G20_GDP.Value,  G20_GDP.LOCATION, color = 'b')\n",
    "plt.show()"
   ]
  },
  {
   "cell_type": "code",
   "execution_count": null,
   "id": "5cdd3209",
   "metadata": {},
   "outputs": [],
   "source": []
  }
 ],
 "metadata": {
  "kernelspec": {
   "display_name": "Python 3",
   "language": "python",
   "name": "python3"
  },
  "language_info": {
   "codemirror_mode": {
    "name": "ipython",
    "version": 3
   },
   "file_extension": ".py",
   "mimetype": "text/x-python",
   "name": "python",
   "nbconvert_exporter": "python",
   "pygments_lexer": "ipython3",
   "version": "3.8.8"
  }
 },
 "nbformat": 4,
 "nbformat_minor": 5
}
